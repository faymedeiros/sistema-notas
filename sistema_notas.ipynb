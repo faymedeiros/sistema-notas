{
  "nbformat": 4,
  "nbformat_minor": 0,
  "metadata": {
    "colab": {
      "provenance": [],
      "authorship_tag": "ABX9TyPAEyzK1FLQIROUfaSmqcG1",
      "include_colab_link": true
    },
    "kernelspec": {
      "name": "python3",
      "display_name": "Python 3"
    },
    "language_info": {
      "name": "python"
    }
  },
  "cells": [
    {
      "cell_type": "markdown",
      "metadata": {
        "id": "view-in-github",
        "colab_type": "text"
      },
      "source": [
        "<a href=\"https://colab.research.google.com/github/faymedeiros/sistema-notas/blob/main/sistema_notas.ipynb\" target=\"_parent\"><img src=\"https://colab.research.google.com/assets/colab-badge.svg\" alt=\"Open In Colab\"/></a>"
      ]
    },
    {
      "cell_type": "code",
      "source": [
        "# Função para cadastrar o nome do aluno\n",
        "def cadastrar_nome():\n",
        "    nome = input(\"Digite o nome do aluno: \")\n",
        "    return nome\n",
        "\n",
        "# Função para cadastrar as notas\n",
        "def cadastrar_notas():\n",
        "    notas = []  # Inicializa a lista 'notas' dentro da função\n",
        "    while True:\n",
        "        nota = float(input(\"Digite a nota (ou -1 para encerrar): \"))\n",
        "        if nota == -1:\n",
        "            break\n",
        "        notas.append(nota)\n",
        "    return notas\n",
        "\n",
        "# Função para calcular a média\n",
        "def calcular_media(notas):\n",
        "    return sum(notas) / len(notas)\n",
        "\n",
        "# Função para determinar a situação\n",
        "def determinar_situacao(media):\n",
        "    return \"Aprovado\" if media >= 7 else \"Reprovado\"\n",
        "\n",
        "# Função principal\n",
        "def main():\n",
        "    nome = cadastrar_nome()  # Chama a função para cadastrar o nome do aluno\n",
        "    notas = cadastrar_notas()  # Chama a função que retorna a lista 'notas'\n",
        "    media = calcular_media(notas)\n",
        "    situacao = determinar_situacao(media)\n",
        "\n",
        "    # Exibe o relatório final\n",
        "    print(\"\\n--- Relatório Final ---\")\n",
        "    print(f\"Nome: {nome}\")\n",
        "    print(f\"Notas: {notas}\")\n",
        "    print(f\"Média: {media:.2f}\")\n",
        "    print(f\"Situação: {situacao}\")\n",
        "\n",
        "# Executar o programa\n",
        "if __name__ == \"__main__\":\n",
        "    main()\n"
      ],
      "metadata": {
        "colab": {
          "base_uri": "https://localhost:8080/"
        },
        "id": "uBMUDOqbGwE2",
        "outputId": "a07d719e-2a5b-4258-d703-747fd6333943"
      },
      "execution_count": 7,
      "outputs": [
        {
          "output_type": "stream",
          "name": "stdout",
          "text": [
            "Digite o nome do aluno: Laura\n",
            "Digite a nota (ou -1 para encerrar): 7\n",
            "Digite a nota (ou -1 para encerrar): 9\n",
            "Digite a nota (ou -1 para encerrar): 8\n",
            "Digite a nota (ou -1 para encerrar): -1\n",
            "\n",
            "--- Relatório Final ---\n",
            "Nome: Laura\n",
            "Notas: [7.0, 9.0, 8.0]\n",
            "Média: 8.00\n",
            "Situação: Aprovado\n"
          ]
        }
      ]
    }
  ]
}